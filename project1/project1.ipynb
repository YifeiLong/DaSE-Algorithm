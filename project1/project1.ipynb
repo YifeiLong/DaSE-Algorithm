{
 "cells": [
  {
   "cell_type": "code",
   "execution_count": 1,
   "id": "82af653b",
   "metadata": {},
   "outputs": [],
   "source": [
    "import numpy as np\n",
    "import math\n",
    "import pandas as pd\n",
    "import random\n",
    "import time"
   ]
  },
  {
   "cell_type": "markdown",
   "id": "ec53018a",
   "metadata": {},
   "source": [
    "**转换为邻接表**"
   ]
  },
  {
   "cell_type": "code",
   "execution_count": 2,
   "id": "e99b93a5",
   "metadata": {},
   "outputs": [
    {
     "name": "stdout",
     "output_type": "stream",
     "text": [
      "366.3696999999999\n"
     ]
    }
   ],
   "source": [
    "graph = {}\n",
    "f = open('ca-AstroPh.txt', 'r')\n",
    "t1 = time.perf_counter()\n",
    "while True:\n",
    "    try:\n",
    "        line = f.readline().strip().split(' ')  # 去掉回车并分割\n",
    "        i = int(line[0])\n",
    "        j = int(line[1])\n",
    "        try:\n",
    "            graph[i].add(j)\n",
    "        except Exception:\n",
    "            graph[i] = set([])\n",
    "            graph[i].add(j)\n",
    "        try:\n",
    "            graph[j].add(i)\n",
    "        except Exception:\n",
    "            graph[j] = set([])\n",
    "            graph[j].add(i)\n",
    "    except ValueError:\n",
    "        break\n",
    "t2 = time.perf_counter()\n",
    "t = (t2 - t1) * 1000  # 输出单位为毫秒\n",
    "print(t)\n",
    "f.close()\n",
    "for i in range(1, 18772):\n",
    "    graph[i] = list(graph[i])"
   ]
  },
  {
   "cell_type": "markdown",
   "id": "9667f676",
   "metadata": {},
   "source": [
    "**随机重排**\n",
    "\n",
    "**在已经建立好的邻接表中随机选择一个节点作为最小哈希签名，对每个节点重复多次（生成随机数）**"
   ]
  },
  {
   "cell_type": "code",
   "execution_count": 3,
   "id": "1ef23967",
   "metadata": {},
   "outputs": [
    {
     "name": "stdout",
     "output_type": "stream",
     "text": [
      "1379262.8312\n"
     ]
    }
   ],
   "source": [
    "# 最小哈希签名矩阵，8000 * 18771\n",
    "t3 = time.perf_counter()\n",
    "min_hash_sig = [[[0] for _ in range(18771)] for _ in range(8000)]\n",
    "for i in range(8000):\n",
    "    for j in range(18771):\n",
    "        random.shuffle(graph[j + 1])\n",
    "        min_hash_sig[i][j] = graph[j + 1][0]\n",
    "\n",
    "t4 = time.perf_counter()\n",
    "t = (t4 - t3) * 1000  # 输出单位为毫秒\n",
    "print(t)\n",
    "# min_hash_sig_matrix = pd.DataFrame(data = min_hash_sig, index = None, columns = None)\n",
    "# min_hash_sig_matrix.to_csv('min_hash_sig.csv')"
   ]
  },
  {
   "cell_type": "markdown",
   "id": "a8f77fd8",
   "metadata": {},
   "source": [
    "**分桶**"
   ]
  },
  {
   "cell_type": "code",
   "execution_count": 4,
   "id": "ccf7def7",
   "metadata": {},
   "outputs": [
    {
     "name": "stdout",
     "output_type": "stream",
     "text": [
      "78710.86739999987\n",
      "4593482\n"
     ]
    }
   ],
   "source": [
    "bucket = {}\n",
    "t5 = time.perf_counter()\n",
    "for i in range(4000):\n",
    "    for j in range(18771):\n",
    "        sig = str(min_hash_sig[i * 2][j]) + str(min_hash_sig[i * 2 + 1][j])\n",
    "        try:\n",
    "            bucket[sig].add(j + 1)\n",
    "        except Exception:\n",
    "            bucket[sig] = set([])\n",
    "            bucket[sig].add(j + 1)\n",
    "\n",
    "t6 = time.perf_counter()\n",
    "t = (t6 - t5) * 1000  # 输出单位为毫秒\n",
    "print(t)\n",
    "print(len(bucket))"
   ]
  },
  {
   "cell_type": "markdown",
   "id": "d92d1a8c",
   "metadata": {},
   "source": [
    "**待查询节点编号为326时**"
   ]
  },
  {
   "cell_type": "code",
   "execution_count": 5,
   "id": "8fb32d27",
   "metadata": {},
   "outputs": [
    {
     "name": "stdout",
     "output_type": "stream",
     "text": [
      "85.54380000009587\n"
     ]
    }
   ],
   "source": [
    "k = 326\n",
    "t7 = time.perf_counter()\n",
    "# 将对应桶合并\n",
    "bucket_k = set([])\n",
    "for i in range(4000):\n",
    "    sig = str(min_hash_sig[i * 2][k - 1]) + str(min_hash_sig[i * 2 + 1][k - 1])\n",
    "    bucket_k = bucket_k.union(bucket[sig])\n",
    "# print(bucket_k)\n",
    "t8 = time.perf_counter()\n",
    "t = (t8 - t7) * 1000  # 输出单位为毫秒\n",
    "print(t)"
   ]
  },
  {
   "cell_type": "code",
   "execution_count": 6,
   "id": "94213311",
   "metadata": {},
   "outputs": [
    {
     "name": "stdout",
     "output_type": "stream",
     "text": [
      "285 0.6692160611854685\n",
      "2295 0.35988200589970504\n",
      "26 0.30976430976430974\n",
      "2489 0.29693486590038315\n",
      "2277 0.2954898911353033\n",
      "2288 0.2613065326633166\n",
      "350 0.2564102564102564\n",
      "4395 0.2548262548262548\n",
      "304 0.24864864864864866\n",
      "126 0.24572317262830481\n",
      "78.0369999999948\n"
     ]
    }
   ],
   "source": [
    "# 计算Jaccard相似度并排序\n",
    "rank = {}\n",
    "bucket_k = list(bucket_k)\n",
    "bucket_k.remove(k)\n",
    "t9 = time.perf_counter()\n",
    "for item in bucket_k:\n",
    "    intersect = list(set(graph[k]) & set(graph[item]))\n",
    "    union = list(set(graph[k]) | set(graph[item]))\n",
    "    rank[item] = (len(intersect) / len(union))\n",
    "\n",
    "if len(bucket_k) >= 10:\n",
    "    l = 0\n",
    "    for item in sorted(rank, key = rank.__getitem__, reverse = True):\n",
    "        print(item, rank[item])\n",
    "        l += 1\n",
    "        if l == 10:\n",
    "            break\n",
    "else:\n",
    "    for item in sorted(rank, key = rank.__getitem__, reverse = True):\n",
    "        print(item, rank[item])\n",
    "\n",
    "t10 = time.perf_counter()\n",
    "t = (t10 - t9) * 1000  # 输出单位为毫秒\n",
    "print(t)"
   ]
  },
  {
   "cell_type": "code",
   "execution_count": 8,
   "id": "427da7c1",
   "metadata": {},
   "outputs": [
    {
     "name": "stdout",
     "output_type": "stream",
     "text": [
      "285 0.6692160611854685\n",
      "2295 0.35988200589970504\n",
      "26 0.30976430976430974\n",
      "2489 0.29693486590038315\n",
      "2277 0.2954898911353033\n",
      "2288 0.2613065326633166\n",
      "350 0.2564102564102564\n",
      "4395 0.2548262548262548\n",
      "304 0.24864864864864866\n",
      "126 0.24572317262830481\n"
     ]
    }
   ],
   "source": [
    "# 验证准确性\n",
    "k = 326\n",
    "rank = {}\n",
    "for i in range(18771):\n",
    "    if i + 1 == k:\n",
    "        continue\n",
    "    intersect = list(set(graph[k]) & set(graph[i + 1]))\n",
    "    union = list(set(graph[k]) | set(graph[i + 1]))\n",
    "    rank[i + 1] = (len(intersect) / len(union))\n",
    "\n",
    "l = 0\n",
    "for item in sorted(rank, key = rank.__getitem__, reverse = True):\n",
    "    print(item, rank[item])\n",
    "    l += 1\n",
    "    if l == 10:\n",
    "        break"
   ]
  },
  {
   "cell_type": "markdown",
   "id": "9f785bcf",
   "metadata": {},
   "source": [
    "**待查询节点编号为980时**"
   ]
  },
  {
   "cell_type": "code",
   "execution_count": 9,
   "id": "d8835df4",
   "metadata": {},
   "outputs": [
    {
     "name": "stdout",
     "output_type": "stream",
     "text": [
      "3923.2629999969504\n"
     ]
    }
   ],
   "source": [
    "k = 980\n",
    "t7 = time.perf_counter()\n",
    "# 将对应桶合并\n",
    "bucket_k = set([])\n",
    "for i in range(4000):\n",
    "    sig = str(min_hash_sig[i * 2][k - 1]) + str(min_hash_sig[i * 2 + 1][k - 1])\n",
    "    bucket_k = bucket_k.union(bucket[sig])\n",
    "# print(bucket_k)\n",
    "t8 = time.perf_counter()\n",
    "t = (t8 - t7) * 1000  # 输出单位为毫秒\n",
    "print(t)"
   ]
  },
  {
   "cell_type": "code",
   "execution_count": 10,
   "id": "cd028581",
   "metadata": {},
   "outputs": [
    {
     "name": "stdout",
     "output_type": "stream",
     "text": [
      "1141 0.8148148148148148\n",
      "897 0.7777777777777778\n",
      "911 0.7307692307692307\n",
      "959 0.7307692307692307\n",
      "940 0.7241379310344828\n",
      "903 0.7037037037037037\n",
      "993 0.7037037037037037\n",
      "990 0.6923076923076923\n",
      "898 0.6875\n",
      "945 0.6470588235294118\n",
      "50.93439999836846\n"
     ]
    }
   ],
   "source": [
    "# 计算Jaccard相似度并排序\n",
    "rank = {}\n",
    "bucket_k = list(bucket_k)\n",
    "bucket_k.remove(k)\n",
    "t9 = time.perf_counter()\n",
    "for item in bucket_k:\n",
    "    intersect = list(set(graph[k]) & set(graph[item]))\n",
    "    union = list(set(graph[k]) | set(graph[item]))\n",
    "    rank[item] = (len(intersect) / len(union))\n",
    "\n",
    "if len(bucket_k) >= 10:\n",
    "    l = 0\n",
    "    for item in sorted(rank, key = rank.__getitem__, reverse = True):\n",
    "        print(item, rank[item])\n",
    "        l += 1\n",
    "        if l == 10:\n",
    "            break\n",
    "else:\n",
    "    for item in sorted(rank, key = rank.__getitem__, reverse = True):\n",
    "        print(item, rank[item])\n",
    "\n",
    "t10 = time.perf_counter()\n",
    "t = (t10 - t9) * 1000  # 输出单位为毫秒\n",
    "print(t)"
   ]
  },
  {
   "cell_type": "code",
   "execution_count": 11,
   "id": "e20d9727",
   "metadata": {},
   "outputs": [
    {
     "name": "stdout",
     "output_type": "stream",
     "text": [
      "1141 0.8148148148148148\n",
      "897 0.7777777777777778\n",
      "911 0.7307692307692307\n",
      "959 0.7307692307692307\n",
      "940 0.7241379310344828\n",
      "903 0.7037037037037037\n",
      "993 0.7037037037037037\n",
      "990 0.6923076923076923\n",
      "898 0.6875\n",
      "945 0.6470588235294118\n"
     ]
    }
   ],
   "source": [
    "# 验证准确性\n",
    "k = 980\n",
    "rank = {}\n",
    "for i in range(18771):\n",
    "    if i + 1 == k:\n",
    "        continue\n",
    "    intersect = list(set(graph[k]) & set(graph[i + 1]))\n",
    "    union = list(set(graph[k]) | set(graph[i + 1]))\n",
    "    rank[i + 1] = (len(intersect) / len(union))\n",
    "\n",
    "l = 0\n",
    "for item in sorted(rank, key = rank.__getitem__, reverse = True):\n",
    "    print(item, rank[item])\n",
    "    l += 1\n",
    "    if l == 10:\n",
    "        break"
   ]
  },
  {
   "cell_type": "markdown",
   "id": "7ed98fc7",
   "metadata": {},
   "source": [
    "**待查询节点编号为5000时**"
   ]
  },
  {
   "cell_type": "code",
   "execution_count": 12,
   "id": "ed90787c",
   "metadata": {},
   "outputs": [
    {
     "name": "stdout",
     "output_type": "stream",
     "text": [
      "253.1395000005432\n"
     ]
    }
   ],
   "source": [
    "k = 5000\n",
    "t7 = time.perf_counter()\n",
    "# 将对应桶合并\n",
    "bucket_k = set([])\n",
    "for i in range(4000):\n",
    "    sig = str(min_hash_sig[i * 2][k - 1]) + str(min_hash_sig[i * 2 + 1][k - 1])\n",
    "    bucket_k = bucket_k.union(bucket[sig])\n",
    "# print(bucket_k)\n",
    "t8 = time.perf_counter()\n",
    "t = (t8 - t7) * 1000  # 输出单位为毫秒\n",
    "print(t)"
   ]
  },
  {
   "cell_type": "code",
   "execution_count": 13,
   "id": "eb7dc6a2",
   "metadata": {},
   "outputs": [
    {
     "name": "stdout",
     "output_type": "stream",
     "text": [
      "5015 0.48148148148148145\n",
      "4994 0.4642857142857143\n",
      "5017 0.4482758620689655\n",
      "6672 0.4444444444444444\n",
      "4993 0.40625\n",
      "6674 0.35\n",
      "5011 0.3333333333333333\n",
      "4998 0.3170731707317073\n",
      "5009 0.2765957446808511\n",
      "4978 0.2727272727272727\n",
      "5.159399999683956\n"
     ]
    }
   ],
   "source": [
    "# 计算Jaccard相似度并排序\n",
    "rank = {}\n",
    "bucket_k = list(bucket_k)\n",
    "bucket_k.remove(k)\n",
    "t9 = time.perf_counter()\n",
    "for item in bucket_k:\n",
    "    intersect = list(set(graph[k]) & set(graph[item]))\n",
    "    union = list(set(graph[k]) | set(graph[item]))\n",
    "    rank[item] = (len(intersect) / len(union))\n",
    "\n",
    "if len(bucket_k) >= 10:\n",
    "    l = 0\n",
    "    for item in sorted(rank, key = rank.__getitem__, reverse = True):\n",
    "        print(item, rank[item])\n",
    "        l += 1\n",
    "        if l == 10:\n",
    "            break\n",
    "else:\n",
    "    for item in sorted(rank, key = rank.__getitem__, reverse = True):\n",
    "        print(item, rank[item])\n",
    "\n",
    "t10 = time.perf_counter()\n",
    "t = (t10 - t9) * 1000  # 输出单位为毫秒\n",
    "print(t)"
   ]
  },
  {
   "cell_type": "code",
   "execution_count": 14,
   "id": "02c0d50e",
   "metadata": {},
   "outputs": [
    {
     "name": "stdout",
     "output_type": "stream",
     "text": [
      "5015 0.48148148148148145\n",
      "4994 0.4642857142857143\n",
      "5017 0.4482758620689655\n",
      "6672 0.4444444444444444\n",
      "4993 0.40625\n",
      "6674 0.35\n",
      "5011 0.3333333333333333\n",
      "4998 0.3170731707317073\n",
      "5009 0.2765957446808511\n",
      "4978 0.2727272727272727\n"
     ]
    }
   ],
   "source": [
    "# 验证准确性\n",
    "k = 5000\n",
    "rank = {}\n",
    "for i in range(18771):\n",
    "    if i + 1 == k:\n",
    "        continue\n",
    "    intersect = list(set(graph[k]) & set(graph[i + 1]))\n",
    "    union = list(set(graph[k]) | set(graph[i + 1]))\n",
    "    rank[i + 1] = (len(intersect) / len(union))\n",
    "\n",
    "l = 0\n",
    "for item in sorted(rank, key = rank.__getitem__, reverse = True):\n",
    "    print(item, rank[item])\n",
    "    l += 1\n",
    "    if l == 10:\n",
    "        break"
   ]
  },
  {
   "cell_type": "markdown",
   "id": "18f04852",
   "metadata": {},
   "source": [
    "**待查询节点编号为18000时**"
   ]
  },
  {
   "cell_type": "code",
   "execution_count": 15,
   "id": "5cc08fd8",
   "metadata": {},
   "outputs": [
    {
     "name": "stdout",
     "output_type": "stream",
     "text": [
      "1409.9779000025592\n"
     ]
    }
   ],
   "source": [
    "k = 18000\n",
    "t7 = time.perf_counter()\n",
    "# 将对应桶合并\n",
    "bucket_k = set([])\n",
    "for i in range(4000):\n",
    "    sig = str(min_hash_sig[i * 2][k - 1]) + str(min_hash_sig[i * 2 + 1][k - 1])\n",
    "    bucket_k = bucket_k.union(bucket[sig])\n",
    "# print(bucket_k)\n",
    "t8 = time.perf_counter()\n",
    "t = (t8 - t7) * 1000  # 输出单位为毫秒\n",
    "print(t)"
   ]
  },
  {
   "cell_type": "code",
   "execution_count": 16,
   "id": "b430212d",
   "metadata": {},
   "outputs": [
    {
     "name": "stdout",
     "output_type": "stream",
     "text": [
      "18001 0.5\n",
      "17319 0.09090909090909091\n",
      "0.3849000022455584\n"
     ]
    }
   ],
   "source": [
    "# 计算Jaccard相似度并排序\n",
    "rank = {}\n",
    "bucket_k = list(bucket_k)\n",
    "bucket_k.remove(k)\n",
    "t9 = time.perf_counter()\n",
    "for item in bucket_k:\n",
    "    intersect = list(set(graph[k]) & set(graph[item]))\n",
    "    union = list(set(graph[k]) | set(graph[item]))\n",
    "    rank[item] = (len(intersect) / len(union))\n",
    "\n",
    "if len(bucket_k) >= 10:\n",
    "    l = 0\n",
    "    for item in sorted(rank, key = rank.__getitem__, reverse = True):\n",
    "        print(item, rank[item])\n",
    "        l += 1\n",
    "        if l == 10:\n",
    "            break\n",
    "else:\n",
    "    for item in sorted(rank, key = rank.__getitem__, reverse = True):\n",
    "        print(item, rank[item])\n",
    "\n",
    "t10 = time.perf_counter()\n",
    "t = (t10 - t9) * 1000  # 输出单位为毫秒\n",
    "print(t)"
   ]
  },
  {
   "cell_type": "code",
   "execution_count": 17,
   "id": "63f0d016",
   "metadata": {},
   "outputs": [
    {
     "name": "stdout",
     "output_type": "stream",
     "text": [
      "18001 0.5\n",
      "17319 0.09090909090909091\n",
      "1 0.0\n",
      "2 0.0\n",
      "3 0.0\n",
      "4 0.0\n",
      "5 0.0\n",
      "6 0.0\n",
      "7 0.0\n",
      "8 0.0\n"
     ]
    }
   ],
   "source": [
    "# 验证准确性\n",
    "k = 18000\n",
    "rank = {}\n",
    "for i in range(18771):\n",
    "    if i + 1 == k:\n",
    "        continue\n",
    "    intersect = list(set(graph[k]) & set(graph[i + 1]))\n",
    "    union = list(set(graph[k]) | set(graph[i + 1]))\n",
    "    rank[i + 1] = (len(intersect) / len(union))\n",
    "\n",
    "l = 0\n",
    "for item in sorted(rank, key = rank.__getitem__, reverse = True):\n",
    "    print(item, rank[item])\n",
    "    l += 1\n",
    "    if l == 10:\n",
    "        break"
   ]
  }
 ],
 "metadata": {
  "kernelspec": {
   "display_name": "Python 3 (ipykernel)",
   "language": "python",
   "name": "python3"
  },
  "language_info": {
   "codemirror_mode": {
    "name": "ipython",
    "version": 3
   },
   "file_extension": ".py",
   "mimetype": "text/x-python",
   "name": "python",
   "nbconvert_exporter": "python",
   "pygments_lexer": "ipython3",
   "version": "3.9.12"
  }
 },
 "nbformat": 4,
 "nbformat_minor": 5
}
