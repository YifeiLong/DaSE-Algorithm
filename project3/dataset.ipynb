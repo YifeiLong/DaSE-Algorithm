{
 "cells": [
  {
   "cell_type": "code",
   "execution_count": 1,
   "metadata": {
    "collapsed": true,
    "ExecuteTime": {
     "end_time": "2023-07-05T04:31:25.939171100Z",
     "start_time": "2023-07-05T04:31:25.540215200Z"
    }
   },
   "outputs": [],
   "source": [
    "import numpy as np\n",
    "import pandas as pd"
   ]
  },
  {
   "cell_type": "code",
   "execution_count": 2,
   "outputs": [],
   "source": [
    "rtnames = ['user', 'movie', 'score', 'time']\n",
    "rating = pd.read_csv(\"D:/algorithm_project/project3/dataset/data.txt\",sep = '\\t',names = rtnames)"
   ],
   "metadata": {
    "collapsed": false,
    "ExecuteTime": {
     "end_time": "2023-07-05T04:31:27.844296400Z",
     "start_time": "2023-07-05T04:31:27.784886100Z"
    }
   }
  },
  {
   "cell_type": "code",
   "execution_count": 3,
   "outputs": [
    {
     "name": "stdout",
     "output_type": "stream",
     "text": [
      "19747\n"
     ]
    }
   ],
   "source": [
    "# 划分测试集、训练集\n",
    "# 保留200个用户\n",
    "# 按用户id排序\n",
    "rating.sort_values(by=['user'], axis=0, inplace=True)\n",
    "for i in range(len(rating)):\n",
    "    t = rating.iloc[i]\n",
    "    if t['user'] == 201:\n",
    "        print(i)\n",
    "        break"
   ],
   "metadata": {
    "collapsed": false,
    "ExecuteTime": {
     "end_time": "2023-07-05T04:31:31.129240400Z",
     "start_time": "2023-07-05T04:31:30.009207100Z"
    }
   }
  },
  {
   "cell_type": "code",
   "execution_count": 4,
   "outputs": [
    {
     "name": "stdout",
     "output_type": "stream",
     "text": [
      "[   1    2    3 ... 1418 1419 1420]\n"
     ]
    },
    {
     "data": {
      "text/plain": "       user  movie  score       time\n66567     1     55      5  875072688\n62820     1    203      4  878542231\n10207     1    183      5  875072262\n9971      1    150      5  876892196\n22496     1     68      4  875072688",
      "text/html": "<div>\n<style scoped>\n    .dataframe tbody tr th:only-of-type {\n        vertical-align: middle;\n    }\n\n    .dataframe tbody tr th {\n        vertical-align: top;\n    }\n\n    .dataframe thead th {\n        text-align: right;\n    }\n</style>\n<table border=\"1\" class=\"dataframe\">\n  <thead>\n    <tr style=\"text-align: right;\">\n      <th></th>\n      <th>user</th>\n      <th>movie</th>\n      <th>score</th>\n      <th>time</th>\n    </tr>\n  </thead>\n  <tbody>\n    <tr>\n      <th>66567</th>\n      <td>1</td>\n      <td>55</td>\n      <td>5</td>\n      <td>875072688</td>\n    </tr>\n    <tr>\n      <th>62820</th>\n      <td>1</td>\n      <td>203</td>\n      <td>4</td>\n      <td>878542231</td>\n    </tr>\n    <tr>\n      <th>10207</th>\n      <td>1</td>\n      <td>183</td>\n      <td>5</td>\n      <td>875072262</td>\n    </tr>\n    <tr>\n      <th>9971</th>\n      <td>1</td>\n      <td>150</td>\n      <td>5</td>\n      <td>876892196</td>\n    </tr>\n    <tr>\n      <th>22496</th>\n      <td>1</td>\n      <td>68</td>\n      <td>4</td>\n      <td>875072688</td>\n    </tr>\n  </tbody>\n</table>\n</div>"
     },
     "execution_count": 4,
     "metadata": {},
     "output_type": "execute_result"
    }
   ],
   "source": [
    "rate = rating.iloc[:19747, :]\n",
    "print(np.unique(rate['movie']))\n",
    "rate.head()"
   ],
   "metadata": {
    "collapsed": false,
    "ExecuteTime": {
     "end_time": "2023-07-05T04:31:32.960169700Z",
     "start_time": "2023-07-05T04:31:32.923853700Z"
    }
   }
  },
  {
   "cell_type": "code",
   "execution_count": 5,
   "outputs": [
    {
     "name": "stdout",
     "output_type": "stream",
     "text": [
      "generate rating matrix complete!\n"
     ]
    }
   ],
   "source": [
    "# 生成用户-物品矩阵，200 * 1420\n",
    "# 用户-项目共现矩阵初始化\n",
    "rating_mat = np.zeros([201, 1421], dtype=int)\n",
    "# 赋值\n",
    "for i in range(len(rate)):\n",
    "    user = rate.iloc[i]['user']\n",
    "    movie = rate.iloc[i]['movie']\n",
    "    score = rate.iloc[i]['score']\n",
    "    rating_mat[user][movie] = score\n",
    "print(f'generate rating matrix complete!')"
   ],
   "metadata": {
    "collapsed": false,
    "ExecuteTime": {
     "end_time": "2023-07-05T04:31:40.257520800Z",
     "start_time": "2023-07-05T04:31:37.155176700Z"
    }
   }
  },
  {
   "cell_type": "code",
   "execution_count": 15,
   "outputs": [
    {
     "data": {
      "text/plain": "   0     1     2     3     4     5     6     7     8     9     ...  1673  \\\n0     5     3     0     3     0     0     4     1     0     3  ...     0   \n1     0     0     0     0     0     0     0     0     0     0  ...     0   \n2     0     0     0     0     0     0     0     0     0     0  ...     0   \n3     0     0     0     0     0     0     0     0     0     0  ...     0   \n4     4     3     0     0     0     0     0     0     0     0  ...     0   \n\n   1674  1675  1676  1677  1678  1679  1680  1681  1682  \n0     0     0     0     0     0     0     0     0     0  \n1     0     0     0     0     0     0     0     0     0  \n2     0     0     0     0     0     0     0     0     0  \n3     0     0     0     0     0     0     0     0     0  \n4     0     0     0     0     0     0     0     0     0  \n\n[5 rows x 1683 columns]",
      "text/html": "<div>\n<style scoped>\n    .dataframe tbody tr th:only-of-type {\n        vertical-align: middle;\n    }\n\n    .dataframe tbody tr th {\n        vertical-align: top;\n    }\n\n    .dataframe thead th {\n        text-align: right;\n    }\n</style>\n<table border=\"1\" class=\"dataframe\">\n  <thead>\n    <tr style=\"text-align: right;\">\n      <th></th>\n      <th>0</th>\n      <th>1</th>\n      <th>2</th>\n      <th>3</th>\n      <th>4</th>\n      <th>5</th>\n      <th>6</th>\n      <th>7</th>\n      <th>8</th>\n      <th>9</th>\n      <th>...</th>\n      <th>1673</th>\n      <th>1674</th>\n      <th>1675</th>\n      <th>1676</th>\n      <th>1677</th>\n      <th>1678</th>\n      <th>1679</th>\n      <th>1680</th>\n      <th>1681</th>\n      <th>1682</th>\n    </tr>\n  </thead>\n  <tbody>\n    <tr>\n      <th>0</th>\n      <td>5</td>\n      <td>3</td>\n      <td>0</td>\n      <td>3</td>\n      <td>0</td>\n      <td>0</td>\n      <td>4</td>\n      <td>1</td>\n      <td>0</td>\n      <td>3</td>\n      <td>...</td>\n      <td>0</td>\n      <td>0</td>\n      <td>0</td>\n      <td>0</td>\n      <td>0</td>\n      <td>0</td>\n      <td>0</td>\n      <td>0</td>\n      <td>0</td>\n      <td>0</td>\n    </tr>\n    <tr>\n      <th>1</th>\n      <td>0</td>\n      <td>0</td>\n      <td>0</td>\n      <td>0</td>\n      <td>0</td>\n      <td>0</td>\n      <td>0</td>\n      <td>0</td>\n      <td>0</td>\n      <td>0</td>\n      <td>...</td>\n      <td>0</td>\n      <td>0</td>\n      <td>0</td>\n      <td>0</td>\n      <td>0</td>\n      <td>0</td>\n      <td>0</td>\n      <td>0</td>\n      <td>0</td>\n      <td>0</td>\n    </tr>\n    <tr>\n      <th>2</th>\n      <td>0</td>\n      <td>0</td>\n      <td>0</td>\n      <td>0</td>\n      <td>0</td>\n      <td>0</td>\n      <td>0</td>\n      <td>0</td>\n      <td>0</td>\n      <td>0</td>\n      <td>...</td>\n      <td>0</td>\n      <td>0</td>\n      <td>0</td>\n      <td>0</td>\n      <td>0</td>\n      <td>0</td>\n      <td>0</td>\n      <td>0</td>\n      <td>0</td>\n      <td>0</td>\n    </tr>\n    <tr>\n      <th>3</th>\n      <td>0</td>\n      <td>0</td>\n      <td>0</td>\n      <td>0</td>\n      <td>0</td>\n      <td>0</td>\n      <td>0</td>\n      <td>0</td>\n      <td>0</td>\n      <td>0</td>\n      <td>...</td>\n      <td>0</td>\n      <td>0</td>\n      <td>0</td>\n      <td>0</td>\n      <td>0</td>\n      <td>0</td>\n      <td>0</td>\n      <td>0</td>\n      <td>0</td>\n      <td>0</td>\n    </tr>\n    <tr>\n      <th>4</th>\n      <td>4</td>\n      <td>3</td>\n      <td>0</td>\n      <td>0</td>\n      <td>0</td>\n      <td>0</td>\n      <td>0</td>\n      <td>0</td>\n      <td>0</td>\n      <td>0</td>\n      <td>...</td>\n      <td>0</td>\n      <td>0</td>\n      <td>0</td>\n      <td>0</td>\n      <td>0</td>\n      <td>0</td>\n      <td>0</td>\n      <td>0</td>\n      <td>0</td>\n      <td>0</td>\n    </tr>\n  </tbody>\n</table>\n<p>5 rows × 1683 columns</p>\n</div>"
     },
     "execution_count": 15,
     "metadata": {},
     "output_type": "execute_result"
    }
   ],
   "source": [
    "temp = pd.read_csv(\"D:/algorithm_project/project3/dataset/rating_mat.txt\", delimiter=',', dtype=int, header=None)\n",
    "temp.head()"
   ],
   "metadata": {
    "collapsed": false,
    "ExecuteTime": {
     "end_time": "2023-07-04T15:37:44.096555300Z",
     "start_time": "2023-07-04T15:37:43.942263700Z"
    }
   }
  },
  {
   "cell_type": "code",
   "execution_count": 7,
   "outputs": [
    {
     "name": "stderr",
     "output_type": "stream",
     "text": [
      "C:\\Users\\86155\\AppData\\Local\\Temp\\ipykernel_18596\\3495289648.py:2: SettingWithCopyWarning: \n",
      "A value is trying to be set on a copy of a slice from a DataFrame\n",
      "\n",
      "See the caveats in the documentation: https://pandas.pydata.org/pandas-docs/stable/user_guide/indexing.html#returning-a-view-versus-a-copy\n",
      "  rate.sort_values(by=['time'], axis=0, inplace=True)\n",
      "C:\\Users\\86155\\AppData\\Local\\Temp\\ipykernel_18596\\3495289648.py:9: SettingWithCopyWarning: \n",
      "A value is trying to be set on a copy of a slice from a DataFrame\n",
      "\n",
      "See the caveats in the documentation: https://pandas.pydata.org/pandas-docs/stable/user_guide/indexing.html#returning-a-view-versus-a-copy\n",
      "  train.sort_values(by=['user', 'time'], axis=0, inplace=True)\n",
      "C:\\Users\\86155\\AppData\\Local\\Temp\\ipykernel_18596\\3495289648.py:10: SettingWithCopyWarning: \n",
      "A value is trying to be set on a copy of a slice from a DataFrame\n",
      "\n",
      "See the caveats in the documentation: https://pandas.pydata.org/pandas-docs/stable/user_guide/indexing.html#returning-a-view-versus-a-copy\n",
      "  test.sort_values(by=['user', 'time'], axis=0, inplace=True)\n"
     ]
    },
    {
     "name": "stdout",
     "output_type": "stream",
     "text": [
      "generate rating matrix complete!\n",
      "split data complete!\n"
     ]
    }
   ],
   "source": [
    "# 按时间顺序抽取20%作为测试集，更新用户-项目共现矩阵\n",
    "rate.sort_values(by=['time'], axis=0, inplace=True)\n",
    "# print(rate.head())\n",
    "boundary = rate['time'].quantile(0.8)  # 边界\n",
    "\n",
    "# 将训练集、测试集排序\n",
    "train = rate[rate['time'] < boundary]\n",
    "test = rate[rate['time'] >= boundary]\n",
    "train.sort_values(by=['user', 'time'], axis=0, inplace=True)\n",
    "test.sort_values(by=['user', 'time'], axis=0, inplace=True)\n",
    "\n",
    "# 剔除测试集数据\n",
    "for i in range(len(test)):\n",
    "    user = test.iloc[i]['user']\n",
    "    movie = test.iloc[i]['movie']\n",
    "    rating_mat[user][movie] = 0\n",
    "\n",
    "# 保存用户-项目共现矩阵到文件\n",
    "np.savetxt(\"D:/algorithm_project/project3/dataset/rating_mat.txt\", rating_mat, fmt='%d', delimiter=',', newline='\\n', encoding='utf-8')\n",
    "print(f'generate rating matrix complete!')\n",
    "\n",
    "# 保存测试集、训练集\n",
    "train.to_csv(\"D:/algorithm_project/project3/dataset/train.txt\", sep=',', index=False, header=None)\n",
    "test.to_csv(\"D:/algorithm_project/project3/dataset/test.txt\", sep=',', index=False, header=None)\n",
    "print(f'split data complete!')"
   ],
   "metadata": {
    "collapsed": false,
    "ExecuteTime": {
     "end_time": "2023-07-05T04:32:08.500421200Z",
     "start_time": "2023-07-05T04:32:07.978763200Z"
    }
   }
  }
 ],
 "metadata": {
  "kernelspec": {
   "display_name": "Python 3",
   "language": "python",
   "name": "python3"
  },
  "language_info": {
   "codemirror_mode": {
    "name": "ipython",
    "version": 2
   },
   "file_extension": ".py",
   "mimetype": "text/x-python",
   "name": "python",
   "nbconvert_exporter": "python",
   "pygments_lexer": "ipython2",
   "version": "2.7.6"
  }
 },
 "nbformat": 4,
 "nbformat_minor": 0
}
